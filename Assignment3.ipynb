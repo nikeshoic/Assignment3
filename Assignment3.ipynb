{
 "cells": [
  {
   "cell_type": "markdown",
   "id": "29640a65-2ff0-415a-bf4e-cb39ae3d5a33",
   "metadata": {},
   "source": [
    "#### Use Pandas to compute statistics from the data, handle missing data and encode the necessary columns to numeric form. Also check if the given dataset is imbalanced. Use appropriate visualizations to display the statistics in the data."
   ]
  },
  {
   "cell_type": "code",
   "execution_count": 3,
   "id": "394c3e93-777d-4250-a624-eeece1ce3746",
   "metadata": {},
   "outputs": [],
   "source": [
    "import pandas as pd\n",
    "import numpy as np\n",
    "import matplotlib.pyplot as plt\n",
    "from sklearn.preprocessing import LabelEncoder"
   ]
  },
  {
   "cell_type": "code",
   "execution_count": 4,
   "id": "a12c1e5c-ec25-49e2-b109-3f615229f72c",
   "metadata": {},
   "outputs": [],
   "source": [
    "heart_disease_data = pd.read_csv(\"heart_disease.csv\")"
   ]
  },
  {
   "cell_type": "code",
   "execution_count": 3,
   "id": "1229bfd4-f5c5-4daa-9534-52f0f811744b",
   "metadata": {},
   "outputs": [
    {
     "data": {
      "text/html": [
       "<div>\n",
       "<style scoped>\n",
       "    .dataframe tbody tr th:only-of-type {\n",
       "        vertical-align: middle;\n",
       "    }\n",
       "\n",
       "    .dataframe tbody tr th {\n",
       "        vertical-align: top;\n",
       "    }\n",
       "\n",
       "    .dataframe thead th {\n",
       "        text-align: right;\n",
       "    }\n",
       "</style>\n",
       "<table border=\"1\" class=\"dataframe\">\n",
       "  <thead>\n",
       "    <tr style=\"text-align: right;\">\n",
       "      <th></th>\n",
       "      <th>HeartDisease</th>\n",
       "      <th>BMI</th>\n",
       "      <th>Smoking</th>\n",
       "      <th>AlcoholDrinking</th>\n",
       "      <th>Stroke</th>\n",
       "      <th>PhysicalHealth</th>\n",
       "      <th>MentalHealth</th>\n",
       "      <th>DiffWalking</th>\n",
       "      <th>Sex</th>\n",
       "      <th>AgeCategory</th>\n",
       "      <th>Race</th>\n",
       "      <th>Diabetic</th>\n",
       "      <th>PhysicalActivity</th>\n",
       "      <th>GenHealth</th>\n",
       "      <th>SleepTime</th>\n",
       "      <th>Asthma</th>\n",
       "      <th>KidneyDisease</th>\n",
       "      <th>SkinCancer</th>\n",
       "    </tr>\n",
       "  </thead>\n",
       "  <tbody>\n",
       "    <tr>\n",
       "      <th>0</th>\n",
       "      <td>No</td>\n",
       "      <td>16.60</td>\n",
       "      <td>Yes</td>\n",
       "      <td>No</td>\n",
       "      <td>No</td>\n",
       "      <td>3.0</td>\n",
       "      <td>30.0</td>\n",
       "      <td>No</td>\n",
       "      <td>Female</td>\n",
       "      <td>55-59</td>\n",
       "      <td>White</td>\n",
       "      <td>Yes</td>\n",
       "      <td>Yes</td>\n",
       "      <td>Very good</td>\n",
       "      <td>5.0</td>\n",
       "      <td>Yes</td>\n",
       "      <td>No</td>\n",
       "      <td>Yes</td>\n",
       "    </tr>\n",
       "    <tr>\n",
       "      <th>1</th>\n",
       "      <td>No</td>\n",
       "      <td>20.34</td>\n",
       "      <td>No</td>\n",
       "      <td>No</td>\n",
       "      <td>Yes</td>\n",
       "      <td>0.0</td>\n",
       "      <td>0.0</td>\n",
       "      <td>No</td>\n",
       "      <td>Female</td>\n",
       "      <td>80 or older</td>\n",
       "      <td>White</td>\n",
       "      <td>No</td>\n",
       "      <td>Yes</td>\n",
       "      <td>Very good</td>\n",
       "      <td>7.0</td>\n",
       "      <td>No</td>\n",
       "      <td>No</td>\n",
       "      <td>No</td>\n",
       "    </tr>\n",
       "    <tr>\n",
       "      <th>2</th>\n",
       "      <td>No</td>\n",
       "      <td>26.58</td>\n",
       "      <td>Yes</td>\n",
       "      <td>No</td>\n",
       "      <td>No</td>\n",
       "      <td>20.0</td>\n",
       "      <td>30.0</td>\n",
       "      <td>No</td>\n",
       "      <td>Male</td>\n",
       "      <td>65-69</td>\n",
       "      <td>White</td>\n",
       "      <td>Yes</td>\n",
       "      <td>Yes</td>\n",
       "      <td>Fair</td>\n",
       "      <td>8.0</td>\n",
       "      <td>Yes</td>\n",
       "      <td>No</td>\n",
       "      <td>No</td>\n",
       "    </tr>\n",
       "    <tr>\n",
       "      <th>3</th>\n",
       "      <td>No</td>\n",
       "      <td>24.21</td>\n",
       "      <td>No</td>\n",
       "      <td>No</td>\n",
       "      <td>No</td>\n",
       "      <td>0.0</td>\n",
       "      <td>0.0</td>\n",
       "      <td>No</td>\n",
       "      <td>Female</td>\n",
       "      <td>75-79</td>\n",
       "      <td>White</td>\n",
       "      <td>No</td>\n",
       "      <td>No</td>\n",
       "      <td>Good</td>\n",
       "      <td>6.0</td>\n",
       "      <td>No</td>\n",
       "      <td>No</td>\n",
       "      <td>Yes</td>\n",
       "    </tr>\n",
       "    <tr>\n",
       "      <th>4</th>\n",
       "      <td>No</td>\n",
       "      <td>23.71</td>\n",
       "      <td>No</td>\n",
       "      <td>No</td>\n",
       "      <td>No</td>\n",
       "      <td>28.0</td>\n",
       "      <td>0.0</td>\n",
       "      <td>Yes</td>\n",
       "      <td>Female</td>\n",
       "      <td>40-44</td>\n",
       "      <td>White</td>\n",
       "      <td>No</td>\n",
       "      <td>Yes</td>\n",
       "      <td>Very good</td>\n",
       "      <td>8.0</td>\n",
       "      <td>No</td>\n",
       "      <td>No</td>\n",
       "      <td>No</td>\n",
       "    </tr>\n",
       "    <tr>\n",
       "      <th>...</th>\n",
       "      <td>...</td>\n",
       "      <td>...</td>\n",
       "      <td>...</td>\n",
       "      <td>...</td>\n",
       "      <td>...</td>\n",
       "      <td>...</td>\n",
       "      <td>...</td>\n",
       "      <td>...</td>\n",
       "      <td>...</td>\n",
       "      <td>...</td>\n",
       "      <td>...</td>\n",
       "      <td>...</td>\n",
       "      <td>...</td>\n",
       "      <td>...</td>\n",
       "      <td>...</td>\n",
       "      <td>...</td>\n",
       "      <td>...</td>\n",
       "      <td>...</td>\n",
       "    </tr>\n",
       "    <tr>\n",
       "      <th>319790</th>\n",
       "      <td>Yes</td>\n",
       "      <td>27.41</td>\n",
       "      <td>Yes</td>\n",
       "      <td>No</td>\n",
       "      <td>No</td>\n",
       "      <td>7.0</td>\n",
       "      <td>0.0</td>\n",
       "      <td>Yes</td>\n",
       "      <td>Male</td>\n",
       "      <td>60-64</td>\n",
       "      <td>Hispanic</td>\n",
       "      <td>Yes</td>\n",
       "      <td>No</td>\n",
       "      <td>Fair</td>\n",
       "      <td>6.0</td>\n",
       "      <td>Yes</td>\n",
       "      <td>No</td>\n",
       "      <td>No</td>\n",
       "    </tr>\n",
       "    <tr>\n",
       "      <th>319791</th>\n",
       "      <td>No</td>\n",
       "      <td>29.84</td>\n",
       "      <td>Yes</td>\n",
       "      <td>No</td>\n",
       "      <td>No</td>\n",
       "      <td>0.0</td>\n",
       "      <td>0.0</td>\n",
       "      <td>No</td>\n",
       "      <td>Male</td>\n",
       "      <td>35-39</td>\n",
       "      <td>Hispanic</td>\n",
       "      <td>No</td>\n",
       "      <td>Yes</td>\n",
       "      <td>Very good</td>\n",
       "      <td>5.0</td>\n",
       "      <td>Yes</td>\n",
       "      <td>No</td>\n",
       "      <td>No</td>\n",
       "    </tr>\n",
       "    <tr>\n",
       "      <th>319792</th>\n",
       "      <td>No</td>\n",
       "      <td>24.24</td>\n",
       "      <td>No</td>\n",
       "      <td>No</td>\n",
       "      <td>No</td>\n",
       "      <td>0.0</td>\n",
       "      <td>0.0</td>\n",
       "      <td>No</td>\n",
       "      <td>Female</td>\n",
       "      <td>45-49</td>\n",
       "      <td>Hispanic</td>\n",
       "      <td>No</td>\n",
       "      <td>Yes</td>\n",
       "      <td>Good</td>\n",
       "      <td>6.0</td>\n",
       "      <td>No</td>\n",
       "      <td>No</td>\n",
       "      <td>No</td>\n",
       "    </tr>\n",
       "    <tr>\n",
       "      <th>319793</th>\n",
       "      <td>No</td>\n",
       "      <td>32.81</td>\n",
       "      <td>No</td>\n",
       "      <td>No</td>\n",
       "      <td>No</td>\n",
       "      <td>0.0</td>\n",
       "      <td>0.0</td>\n",
       "      <td>No</td>\n",
       "      <td>Female</td>\n",
       "      <td>25-29</td>\n",
       "      <td>Hispanic</td>\n",
       "      <td>No</td>\n",
       "      <td>No</td>\n",
       "      <td>Good</td>\n",
       "      <td>12.0</td>\n",
       "      <td>No</td>\n",
       "      <td>No</td>\n",
       "      <td>No</td>\n",
       "    </tr>\n",
       "    <tr>\n",
       "      <th>319794</th>\n",
       "      <td>No</td>\n",
       "      <td>46.56</td>\n",
       "      <td>No</td>\n",
       "      <td>No</td>\n",
       "      <td>No</td>\n",
       "      <td>0.0</td>\n",
       "      <td>0.0</td>\n",
       "      <td>No</td>\n",
       "      <td>Female</td>\n",
       "      <td>80 or older</td>\n",
       "      <td>Hispanic</td>\n",
       "      <td>No</td>\n",
       "      <td>Yes</td>\n",
       "      <td>Good</td>\n",
       "      <td>8.0</td>\n",
       "      <td>No</td>\n",
       "      <td>No</td>\n",
       "      <td>No</td>\n",
       "    </tr>\n",
       "  </tbody>\n",
       "</table>\n",
       "<p>319795 rows × 18 columns</p>\n",
       "</div>"
      ],
      "text/plain": [
       "       HeartDisease    BMI Smoking AlcoholDrinking Stroke  PhysicalHealth  \\\n",
       "0                No  16.60     Yes              No     No             3.0   \n",
       "1                No  20.34      No              No    Yes             0.0   \n",
       "2                No  26.58     Yes              No     No            20.0   \n",
       "3                No  24.21      No              No     No             0.0   \n",
       "4                No  23.71      No              No     No            28.0   \n",
       "...             ...    ...     ...             ...    ...             ...   \n",
       "319790          Yes  27.41     Yes              No     No             7.0   \n",
       "319791           No  29.84     Yes              No     No             0.0   \n",
       "319792           No  24.24      No              No     No             0.0   \n",
       "319793           No  32.81      No              No     No             0.0   \n",
       "319794           No  46.56      No              No     No             0.0   \n",
       "\n",
       "        MentalHealth DiffWalking     Sex  AgeCategory      Race Diabetic  \\\n",
       "0               30.0          No  Female        55-59     White      Yes   \n",
       "1                0.0          No  Female  80 or older     White       No   \n",
       "2               30.0          No    Male        65-69     White      Yes   \n",
       "3                0.0          No  Female        75-79     White       No   \n",
       "4                0.0         Yes  Female        40-44     White       No   \n",
       "...              ...         ...     ...          ...       ...      ...   \n",
       "319790           0.0         Yes    Male        60-64  Hispanic      Yes   \n",
       "319791           0.0          No    Male        35-39  Hispanic       No   \n",
       "319792           0.0          No  Female        45-49  Hispanic       No   \n",
       "319793           0.0          No  Female        25-29  Hispanic       No   \n",
       "319794           0.0          No  Female  80 or older  Hispanic       No   \n",
       "\n",
       "       PhysicalActivity  GenHealth  SleepTime Asthma KidneyDisease SkinCancer  \n",
       "0                   Yes  Very good        5.0    Yes            No        Yes  \n",
       "1                   Yes  Very good        7.0     No            No         No  \n",
       "2                   Yes       Fair        8.0    Yes            No         No  \n",
       "3                    No       Good        6.0     No            No        Yes  \n",
       "4                   Yes  Very good        8.0     No            No         No  \n",
       "...                 ...        ...        ...    ...           ...        ...  \n",
       "319790               No       Fair        6.0    Yes            No         No  \n",
       "319791              Yes  Very good        5.0    Yes            No         No  \n",
       "319792              Yes       Good        6.0     No            No         No  \n",
       "319793               No       Good       12.0     No            No         No  \n",
       "319794              Yes       Good        8.0     No            No         No  \n",
       "\n",
       "[319795 rows x 18 columns]"
      ]
     },
     "execution_count": 3,
     "metadata": {},
     "output_type": "execute_result"
    }
   ],
   "source": [
    "heart_disease_data"
   ]
  },
  {
   "cell_type": "code",
   "execution_count": 4,
   "id": "4e544240-c44f-4b69-8c83-4ce85d5533dd",
   "metadata": {},
   "outputs": [
    {
     "data": {
      "text/plain": [
       "Index(['HeartDisease', 'BMI', 'Smoking', 'AlcoholDrinking', 'Stroke',\n",
       "       'PhysicalHealth', 'MentalHealth', 'DiffWalking', 'Sex', 'AgeCategory',\n",
       "       'Race', 'Diabetic', 'PhysicalActivity', 'GenHealth', 'SleepTime',\n",
       "       'Asthma', 'KidneyDisease', 'SkinCancer'],\n",
       "      dtype='object')"
      ]
     },
     "execution_count": 4,
     "metadata": {},
     "output_type": "execute_result"
    }
   ],
   "source": [
    "heart_disease_data.columns"
   ]
  },
  {
   "cell_type": "markdown",
   "id": "883040d6-3334-4be0-a22e-ddd26752d9fa",
   "metadata": {},
   "source": [
    "### Computing Statistics AND Handling missing data"
   ]
  },
  {
   "cell_type": "code",
   "execution_count": 5,
   "id": "18ca0f23-8dcf-4356-ae1e-07fecaa7904f",
   "metadata": {},
   "outputs": [
    {
     "data": {
      "text/plain": [
       "HeartDisease          0\n",
       "BMI                   6\n",
       "Smoking              74\n",
       "AlcoholDrinking     115\n",
       "Stroke               21\n",
       "PhysicalHealth       17\n",
       "MentalHealth         14\n",
       "DiffWalking          33\n",
       "Sex                 313\n",
       "AgeCategory          44\n",
       "Race                 39\n",
       "Diabetic             33\n",
       "PhysicalActivity     16\n",
       "GenHealth           493\n",
       "SleepTime           219\n",
       "Asthma                0\n",
       "KidneyDisease        17\n",
       "SkinCancer            0\n",
       "dtype: int64"
      ]
     },
     "execution_count": 5,
     "metadata": {},
     "output_type": "execute_result"
    }
   ],
   "source": [
    "heart_disease_data.isna().sum()"
   ]
  },
  {
   "cell_type": "code",
   "execution_count": 6,
   "id": "9f1683d7-1c9b-45c6-aa56-8612461a6e20",
   "metadata": {},
   "outputs": [
    {
     "data": {
      "text/plain": [
       "0         16.60\n",
       "1         20.34\n",
       "2         26.58\n",
       "3         24.21\n",
       "4         23.71\n",
       "          ...  \n",
       "319790    27.41\n",
       "319791    29.84\n",
       "319792    24.24\n",
       "319793    32.81\n",
       "319794    46.56\n",
       "Name: BMI, Length: 319795, dtype: float64"
      ]
     },
     "execution_count": 6,
     "metadata": {},
     "output_type": "execute_result"
    }
   ],
   "source": [
    "heart_disease_data['BMI'] "
   ]
  },
  {
   "cell_type": "code",
   "execution_count": 7,
   "id": "cd1ecb94-1f1e-4735-88e3-264bb036f117",
   "metadata": {},
   "outputs": [
    {
     "data": {
      "text/plain": [
       "28.325348432872918"
      ]
     },
     "execution_count": 7,
     "metadata": {},
     "output_type": "execute_result"
    }
   ],
   "source": [
    "bmi_mean = heart_disease_data['BMI'].mean()\n",
    "bmi_mean"
   ]
  },
  {
   "cell_type": "code",
   "execution_count": 8,
   "id": "04c55fd7-f26a-4ea5-9ddf-268ca90157ce",
   "metadata": {},
   "outputs": [],
   "source": [
    "heart_disease_data['BMI'].fillna(bmi_mean,inplace = True)"
   ]
  },
  {
   "cell_type": "code",
   "execution_count": 9,
   "id": "1a45eed8-b1e6-434a-aa97-744ad9a21f3e",
   "metadata": {},
   "outputs": [
    {
     "data": {
      "text/plain": [
       "0"
      ]
     },
     "execution_count": 9,
     "metadata": {},
     "output_type": "execute_result"
    }
   ],
   "source": [
    "heart_disease_data['BMI'].isna().sum()"
   ]
  },
  {
   "cell_type": "code",
   "execution_count": 10,
   "id": "20159c46-9a70-4ae4-bebe-ebf3208e3ade",
   "metadata": {},
   "outputs": [
    {
     "data": {
      "text/plain": [
       "0         Yes\n",
       "1          No\n",
       "2         Yes\n",
       "3          No\n",
       "4          No\n",
       "         ... \n",
       "319790    Yes\n",
       "319791    Yes\n",
       "319792     No\n",
       "319793     No\n",
       "319794     No\n",
       "Name: Smoking, Length: 319795, dtype: object"
      ]
     },
     "execution_count": 10,
     "metadata": {},
     "output_type": "execute_result"
    }
   ],
   "source": [
    "heart_disease_data['Smoking']"
   ]
  },
  {
   "cell_type": "code",
   "execution_count": 11,
   "id": "7478dc9f-6c89-409c-b880-0a3bb64b4230",
   "metadata": {},
   "outputs": [
    {
     "data": {
      "text/plain": [
       "'No'"
      ]
     },
     "execution_count": 11,
     "metadata": {},
     "output_type": "execute_result"
    }
   ],
   "source": [
    "smoking_mode = heart_disease_data['Smoking'].mode()[0]\n",
    "smoking_mode"
   ]
  },
  {
   "cell_type": "code",
   "execution_count": 12,
   "id": "1ed1a2f8-2df6-4d48-9d0a-1ab378b16c5f",
   "metadata": {},
   "outputs": [],
   "source": [
    "heart_disease_data['Smoking'].fillna(smoking_mode,inplace = True)"
   ]
  },
  {
   "cell_type": "code",
   "execution_count": 13,
   "id": "b377da7f-78b7-4b1e-8c4a-3a288ba7107e",
   "metadata": {},
   "outputs": [
    {
     "data": {
      "text/plain": [
       "0"
      ]
     },
     "execution_count": 13,
     "metadata": {},
     "output_type": "execute_result"
    }
   ],
   "source": [
    "heart_disease_data['Smoking'].isna().sum()"
   ]
  },
  {
   "cell_type": "code",
   "execution_count": 14,
   "id": "456f4143-43b1-48d3-81bf-68fb21dfd79f",
   "metadata": {},
   "outputs": [
    {
     "data": {
      "text/plain": [
       "0         No\n",
       "1         No\n",
       "2         No\n",
       "3         No\n",
       "4         No\n",
       "          ..\n",
       "319790    No\n",
       "319791    No\n",
       "319792    No\n",
       "319793    No\n",
       "319794    No\n",
       "Name: AlcoholDrinking, Length: 319795, dtype: object"
      ]
     },
     "execution_count": 14,
     "metadata": {},
     "output_type": "execute_result"
    }
   ],
   "source": [
    "heart_disease_data['AlcoholDrinking']"
   ]
  },
  {
   "cell_type": "code",
   "execution_count": 16,
   "id": "b808fa1d-b918-4945-923e-42f52ed9135b",
   "metadata": {},
   "outputs": [
    {
     "data": {
      "text/plain": [
       "'No'"
      ]
     },
     "execution_count": 16,
     "metadata": {},
     "output_type": "execute_result"
    }
   ],
   "source": [
    "alcohol_drinking_mode = heart_disease_data['AlcoholDrinking'].mode()[0]\n",
    "alcohol_drinking_mode"
   ]
  },
  {
   "cell_type": "code",
   "execution_count": 17,
   "id": "3c930211-8a8b-4919-810f-e779355389d8",
   "metadata": {},
   "outputs": [],
   "source": [
    "heart_disease_data['AlcoholDrinking'].fillna(alcohol_drinking_mode,inplace= True)"
   ]
  },
  {
   "cell_type": "code",
   "execution_count": 18,
   "id": "5205d490-35b4-44a8-819d-899d6c5027bc",
   "metadata": {},
   "outputs": [
    {
     "data": {
      "text/plain": [
       "0"
      ]
     },
     "execution_count": 18,
     "metadata": {},
     "output_type": "execute_result"
    }
   ],
   "source": [
    "heart_disease_data['AlcoholDrinking'].isna().sum()"
   ]
  },
  {
   "cell_type": "code",
   "execution_count": 19,
   "id": "b9289704-f9f3-4492-aa08-0859b92ac38f",
   "metadata": {},
   "outputs": [
    {
     "data": {
      "text/plain": [
       "0          No\n",
       "1         Yes\n",
       "2          No\n",
       "3          No\n",
       "4          No\n",
       "         ... \n",
       "319790     No\n",
       "319791     No\n",
       "319792     No\n",
       "319793     No\n",
       "319794     No\n",
       "Name: Stroke, Length: 319795, dtype: object"
      ]
     },
     "execution_count": 19,
     "metadata": {},
     "output_type": "execute_result"
    }
   ],
   "source": [
    "heart_disease_data['Stroke']"
   ]
  },
  {
   "cell_type": "code",
   "execution_count": 20,
   "id": "d6ac819d-0ba0-4268-ba1f-5d21bbaeb15c",
   "metadata": {},
   "outputs": [
    {
     "data": {
      "text/plain": [
       "'No'"
      ]
     },
     "execution_count": 20,
     "metadata": {},
     "output_type": "execute_result"
    }
   ],
   "source": [
    "stroke_mode = heart_disease_data['Stroke'].mode()[0]\n",
    "stroke_mode"
   ]
  },
  {
   "cell_type": "code",
   "execution_count": 21,
   "id": "1c4838b9-de02-4c38-b2f5-5406a9848aa0",
   "metadata": {},
   "outputs": [],
   "source": [
    "heart_disease_data['Stroke'].fillna(stroke_mode,inplace=True)"
   ]
  },
  {
   "cell_type": "code",
   "execution_count": 22,
   "id": "8f37e7dc-c1a2-4e84-a008-24ddc8cbaa4d",
   "metadata": {},
   "outputs": [
    {
     "data": {
      "text/plain": [
       "0"
      ]
     },
     "execution_count": 22,
     "metadata": {},
     "output_type": "execute_result"
    }
   ],
   "source": [
    "heart_disease_data['Stroke'].isna().sum()"
   ]
  },
  {
   "cell_type": "code",
   "execution_count": 23,
   "id": "55a3ea40-eadb-4701-9773-278b016cbff4",
   "metadata": {},
   "outputs": [
    {
     "data": {
      "text/plain": [
       "0          3.0\n",
       "1          0.0\n",
       "2         20.0\n",
       "3          0.0\n",
       "4         28.0\n",
       "          ... \n",
       "319790     7.0\n",
       "319791     0.0\n",
       "319792     0.0\n",
       "319793     0.0\n",
       "319794     0.0\n",
       "Name: PhysicalHealth, Length: 319795, dtype: float64"
      ]
     },
     "execution_count": 23,
     "metadata": {},
     "output_type": "execute_result"
    }
   ],
   "source": [
    "heart_disease_data['PhysicalHealth']"
   ]
  },
  {
   "cell_type": "code",
   "execution_count": 24,
   "id": "88db3b22-85b2-4b82-89c8-0792493bb0d7",
   "metadata": {},
   "outputs": [
    {
     "data": {
      "text/plain": [
       "3.3716046757437974"
      ]
     },
     "execution_count": 24,
     "metadata": {},
     "output_type": "execute_result"
    }
   ],
   "source": [
    "health_mean = heart_disease_data['PhysicalHealth'].mean()\n",
    "health_mean"
   ]
  },
  {
   "cell_type": "code",
   "execution_count": 25,
   "id": "368da3aa-cf54-4511-8869-2e687c97982a",
   "metadata": {},
   "outputs": [],
   "source": [
    "heart_disease_data['PhysicalHealth'].fillna(health_mean,inplace=True)"
   ]
  },
  {
   "cell_type": "code",
   "execution_count": 26,
   "id": "2a7bf319-295c-4100-8aed-4d2187bb8c62",
   "metadata": {},
   "outputs": [
    {
     "data": {
      "text/plain": [
       "0"
      ]
     },
     "execution_count": 26,
     "metadata": {},
     "output_type": "execute_result"
    }
   ],
   "source": [
    "heart_disease_data['PhysicalHealth'].isna().sum()"
   ]
  },
  {
   "cell_type": "code",
   "execution_count": 27,
   "id": "ea696888-9d2f-4361-a831-2adf12a57753",
   "metadata": {},
   "outputs": [
    {
     "data": {
      "text/plain": [
       "0         30.0\n",
       "1          0.0\n",
       "2         30.0\n",
       "3          0.0\n",
       "4          0.0\n",
       "          ... \n",
       "319790     0.0\n",
       "319791     0.0\n",
       "319792     0.0\n",
       "319793     0.0\n",
       "319794     0.0\n",
       "Name: MentalHealth, Length: 319795, dtype: float64"
      ]
     },
     "execution_count": 27,
     "metadata": {},
     "output_type": "execute_result"
    }
   ],
   "source": [
    "heart_disease_data['MentalHealth']"
   ]
  },
  {
   "cell_type": "code",
   "execution_count": 28,
   "id": "66de144a-5f57-4ff0-b660-c6b9aceb00d6",
   "metadata": {},
   "outputs": [
    {
     "data": {
      "text/plain": [
       "3.898383581263427"
      ]
     },
     "execution_count": 28,
     "metadata": {},
     "output_type": "execute_result"
    }
   ],
   "source": [
    "mental_mean = heart_disease_data['MentalHealth'].mean()\n",
    "mental_mean"
   ]
  },
  {
   "cell_type": "code",
   "execution_count": 29,
   "id": "e7ddd5ff-9db2-4166-83ee-11603dbd72b8",
   "metadata": {},
   "outputs": [],
   "source": [
    "heart_disease_data['MentalHealth'].fillna(mental_mean,inplace=True)"
   ]
  },
  {
   "cell_type": "code",
   "execution_count": 30,
   "id": "a13dee0d-2fd8-4c24-bb4a-294f683a0cca",
   "metadata": {},
   "outputs": [
    {
     "data": {
      "text/plain": [
       "0"
      ]
     },
     "execution_count": 30,
     "metadata": {},
     "output_type": "execute_result"
    }
   ],
   "source": [
    "heart_disease_data['MentalHealth'].isna().sum()"
   ]
  },
  {
   "cell_type": "code",
   "execution_count": 32,
   "id": "8cab481a-a340-4337-b114-98fbdc1c985d",
   "metadata": {},
   "outputs": [],
   "source": [
    "diff_walking_mode = heart_disease_data['DiffWalking'].mode()[0]"
   ]
  },
  {
   "cell_type": "code",
   "execution_count": 33,
   "id": "b292e8dc-ce82-402d-9b2b-61cdc1331270",
   "metadata": {},
   "outputs": [],
   "source": [
    "heart_disease_data['DiffWalking'].fillna(diff_walking_mode,inplace=True)"
   ]
  },
  {
   "cell_type": "code",
   "execution_count": 35,
   "id": "98422816-0f6f-426e-aa2e-4c5cf87d6579",
   "metadata": {},
   "outputs": [],
   "source": [
    "sex_mode = heart_disease_data['Sex'].mode()[0]"
   ]
  },
  {
   "cell_type": "code",
   "execution_count": 36,
   "id": "1710ee51-0653-44b3-a798-2f686c5e6ad5",
   "metadata": {},
   "outputs": [],
   "source": [
    "heart_disease_data['Sex'].fillna(sex_mode,inplace = True)"
   ]
  },
  {
   "cell_type": "code",
   "execution_count": 37,
   "id": "e54193e9-8020-4984-b9ab-21002f82a49a",
   "metadata": {},
   "outputs": [],
   "source": [
    "age_mode = heart_disease_data['AgeCategory'].mode()[0]"
   ]
  },
  {
   "cell_type": "code",
   "execution_count": 42,
   "id": "0beb83cf-d9fd-4a00-aca1-cbe9cccd0e3a",
   "metadata": {},
   "outputs": [],
   "source": [
    "heart_disease_data['AgeCategory'].fillna(age_mode, inplace = True)"
   ]
  },
  {
   "cell_type": "code",
   "execution_count": 43,
   "id": "aba1a8b4-b7b1-4d3c-b0a6-b00bcdcb74b4",
   "metadata": {},
   "outputs": [],
   "source": [
    "column = ['Race','Diabetic','PhysicalActivity','GenHealth','KidneyDisease']\n",
    "for data in column:\n",
    "    mode_value = heart_disease_data[data].mode()[0]\n",
    "    heart_disease_data[data].fillna(mode_value,inplace=True)"
   ]
  },
  {
   "cell_type": "code",
   "execution_count": 72,
   "id": "610e1348-9acb-4908-8765-873224012654",
   "metadata": {},
   "outputs": [],
   "source": [
    "sleep_time_mean = heart_disease_data['SleepTime'].mean()"
   ]
  },
  {
   "cell_type": "code",
   "execution_count": 75,
   "id": "43510bc2-2f86-429a-a7b3-2b2ec3c12e0b",
   "metadata": {},
   "outputs": [
    {
     "data": {
      "text/plain": [
       "0          5.0\n",
       "1          7.0\n",
       "2          8.0\n",
       "3          6.0\n",
       "4          8.0\n",
       "          ... \n",
       "319790     6.0\n",
       "319791     5.0\n",
       "319792     6.0\n",
       "319793    12.0\n",
       "319794     8.0\n",
       "Name: SleepTime, Length: 319795, dtype: float64"
      ]
     },
     "execution_count": 75,
     "metadata": {},
     "output_type": "execute_result"
    }
   ],
   "source": [
    "heart_disease_data['SleepTime'].fillna(sleep_time_mean)"
   ]
  },
  {
   "cell_type": "code",
   "execution_count": 76,
   "id": "f989bcd1-e48d-48ee-b485-625d812234ac",
   "metadata": {},
   "outputs": [
    {
     "data": {
      "text/plain": [
       "HeartDisease           0\n",
       "BMI                    0\n",
       "Smoking                0\n",
       "AlcoholDrinking        0\n",
       "Stroke                 0\n",
       "PhysicalHealth         0\n",
       "MentalHealth           0\n",
       "DiffWalking            0\n",
       "Sex                    0\n",
       "AgeCategory            0\n",
       "Race                   0\n",
       "Diabetic               0\n",
       "PhysicalActivity       0\n",
       "GenHealth              0\n",
       "SleepTime              0\n",
       "Asthma                 0\n",
       "KidneyDisease          0\n",
       "SkinCancer             0\n",
       "HeartDiseaseEnc        0\n",
       "SmokingENC             0\n",
       "AlcoholDrinkingENC     0\n",
       "StrokeENC              0\n",
       "DiffWalkingENC         0\n",
       "SexENC                 0\n",
       "RaceENC                0\n",
       "DiabeticENC            0\n",
       "PhysicalActivityENC    0\n",
       "GenHealthENC           0\n",
       "AsthmaENC              0\n",
       "KidneyDiseaseENC       0\n",
       "SkinCancerENC          0\n",
       "dtype: int64"
      ]
     },
     "execution_count": 76,
     "metadata": {},
     "output_type": "execute_result"
    }
   ],
   "source": [
    "heart_disease_data.isna().sum()"
   ]
  },
  {
   "cell_type": "markdown",
   "id": "3f7837a4-3f23-4d9b-972f-581c5af4f4c9",
   "metadata": {},
   "source": [
    "### ENCODING COLUMNS INTO NUMERIC FORM"
   ]
  },
  {
   "cell_type": "code",
   "execution_count": 53,
   "id": "a8df3037-651e-42bf-beb4-e02bd85fd8fc",
   "metadata": {},
   "outputs": [
    {
     "data": {
      "text/plain": [
       "Index(['HeartDisease', 'BMI', 'Smoking', 'AlcoholDrinking', 'Stroke',\n",
       "       'PhysicalHealth', 'MentalHealth', 'DiffWalking', 'Sex', 'AgeCategory',\n",
       "       'Race', 'Diabetic', 'PhysicalActivity', 'GenHealth', 'SleepTime',\n",
       "       'Asthma', 'KidneyDisease', 'SkinCancer'],\n",
       "      dtype='object')"
      ]
     },
     "execution_count": 53,
     "metadata": {},
     "output_type": "execute_result"
    }
   ],
   "source": [
    "heart_disease_data.columns"
   ]
  },
  {
   "cell_type": "code",
   "execution_count": 54,
   "id": "1529b66d-ba0e-492d-8e56-fc41398450ff",
   "metadata": {},
   "outputs": [],
   "source": [
    "scaler = LabelEncoder()"
   ]
  },
  {
   "cell_type": "code",
   "execution_count": 55,
   "id": "2f2ca4e1-bff3-486b-bb64-b15f7bbc7cf3",
   "metadata": {},
   "outputs": [],
   "source": [
    "heart_disease_data['HeartDisease'+'Enc'] = scaler.fit_transform(heart_disease_data['HeartDisease'])"
   ]
  },
  {
   "cell_type": "code",
   "execution_count": 7,
   "id": "2c13b17f-e546-40a4-a608-96324624398b",
   "metadata": {},
   "outputs": [],
   "source": [
    "column = ['Smoking', 'AlcoholDrinking', 'Stroke', 'DiffWalking', 'Sex','Race', 'Diabetic', 'PhysicalActivity','GenHealth', 'Asthma','KidneyDisease','SkinCancer']"
   ]
  },
  {
   "cell_type": "code",
   "execution_count": 57,
   "id": "07100f3b-3f4e-423f-a70e-97805c68ba12",
   "metadata": {},
   "outputs": [],
   "source": [
    "for data in column:\n",
    "    heart_disease_data[data+'ENC'] = scaler.fit_transform(heart_disease_data[data])"
   ]
  },
  {
   "cell_type": "code",
   "execution_count": 58,
   "id": "8004533f-282c-4e2f-b702-44e4bd80846d",
   "metadata": {},
   "outputs": [
    {
     "data": {
      "text/html": [
       "<div>\n",
       "<style scoped>\n",
       "    .dataframe tbody tr th:only-of-type {\n",
       "        vertical-align: middle;\n",
       "    }\n",
       "\n",
       "    .dataframe tbody tr th {\n",
       "        vertical-align: top;\n",
       "    }\n",
       "\n",
       "    .dataframe thead th {\n",
       "        text-align: right;\n",
       "    }\n",
       "</style>\n",
       "<table border=\"1\" class=\"dataframe\">\n",
       "  <thead>\n",
       "    <tr style=\"text-align: right;\">\n",
       "      <th></th>\n",
       "      <th>HeartDisease</th>\n",
       "      <th>BMI</th>\n",
       "      <th>Smoking</th>\n",
       "      <th>AlcoholDrinking</th>\n",
       "      <th>Stroke</th>\n",
       "      <th>PhysicalHealth</th>\n",
       "      <th>MentalHealth</th>\n",
       "      <th>DiffWalking</th>\n",
       "      <th>Sex</th>\n",
       "      <th>AgeCategory</th>\n",
       "      <th>...</th>\n",
       "      <th>StrokeENC</th>\n",
       "      <th>DiffWalkingENC</th>\n",
       "      <th>SexENC</th>\n",
       "      <th>RaceENC</th>\n",
       "      <th>DiabeticENC</th>\n",
       "      <th>PhysicalActivityENC</th>\n",
       "      <th>GenHealthENC</th>\n",
       "      <th>AsthmaENC</th>\n",
       "      <th>KidneyDiseaseENC</th>\n",
       "      <th>SkinCancerENC</th>\n",
       "    </tr>\n",
       "  </thead>\n",
       "  <tbody>\n",
       "    <tr>\n",
       "      <th>0</th>\n",
       "      <td>No</td>\n",
       "      <td>16.60</td>\n",
       "      <td>Yes</td>\n",
       "      <td>No</td>\n",
       "      <td>No</td>\n",
       "      <td>3.0</td>\n",
       "      <td>30.0</td>\n",
       "      <td>No</td>\n",
       "      <td>Female</td>\n",
       "      <td>55-59</td>\n",
       "      <td>...</td>\n",
       "      <td>0</td>\n",
       "      <td>0</td>\n",
       "      <td>0</td>\n",
       "      <td>5</td>\n",
       "      <td>2</td>\n",
       "      <td>1</td>\n",
       "      <td>4</td>\n",
       "      <td>1</td>\n",
       "      <td>0</td>\n",
       "      <td>1</td>\n",
       "    </tr>\n",
       "    <tr>\n",
       "      <th>1</th>\n",
       "      <td>No</td>\n",
       "      <td>20.34</td>\n",
       "      <td>No</td>\n",
       "      <td>No</td>\n",
       "      <td>Yes</td>\n",
       "      <td>0.0</td>\n",
       "      <td>0.0</td>\n",
       "      <td>No</td>\n",
       "      <td>Female</td>\n",
       "      <td>80 or older</td>\n",
       "      <td>...</td>\n",
       "      <td>1</td>\n",
       "      <td>0</td>\n",
       "      <td>0</td>\n",
       "      <td>5</td>\n",
       "      <td>0</td>\n",
       "      <td>1</td>\n",
       "      <td>4</td>\n",
       "      <td>0</td>\n",
       "      <td>0</td>\n",
       "      <td>0</td>\n",
       "    </tr>\n",
       "    <tr>\n",
       "      <th>2</th>\n",
       "      <td>No</td>\n",
       "      <td>26.58</td>\n",
       "      <td>Yes</td>\n",
       "      <td>No</td>\n",
       "      <td>No</td>\n",
       "      <td>20.0</td>\n",
       "      <td>30.0</td>\n",
       "      <td>No</td>\n",
       "      <td>Male</td>\n",
       "      <td>65-69</td>\n",
       "      <td>...</td>\n",
       "      <td>0</td>\n",
       "      <td>0</td>\n",
       "      <td>1</td>\n",
       "      <td>5</td>\n",
       "      <td>2</td>\n",
       "      <td>1</td>\n",
       "      <td>1</td>\n",
       "      <td>1</td>\n",
       "      <td>0</td>\n",
       "      <td>0</td>\n",
       "    </tr>\n",
       "    <tr>\n",
       "      <th>3</th>\n",
       "      <td>No</td>\n",
       "      <td>24.21</td>\n",
       "      <td>No</td>\n",
       "      <td>No</td>\n",
       "      <td>No</td>\n",
       "      <td>0.0</td>\n",
       "      <td>0.0</td>\n",
       "      <td>No</td>\n",
       "      <td>Female</td>\n",
       "      <td>75-79</td>\n",
       "      <td>...</td>\n",
       "      <td>0</td>\n",
       "      <td>0</td>\n",
       "      <td>0</td>\n",
       "      <td>5</td>\n",
       "      <td>0</td>\n",
       "      <td>0</td>\n",
       "      <td>2</td>\n",
       "      <td>0</td>\n",
       "      <td>0</td>\n",
       "      <td>1</td>\n",
       "    </tr>\n",
       "    <tr>\n",
       "      <th>4</th>\n",
       "      <td>No</td>\n",
       "      <td>23.71</td>\n",
       "      <td>No</td>\n",
       "      <td>No</td>\n",
       "      <td>No</td>\n",
       "      <td>28.0</td>\n",
       "      <td>0.0</td>\n",
       "      <td>Yes</td>\n",
       "      <td>Female</td>\n",
       "      <td>40-44</td>\n",
       "      <td>...</td>\n",
       "      <td>0</td>\n",
       "      <td>1</td>\n",
       "      <td>0</td>\n",
       "      <td>5</td>\n",
       "      <td>0</td>\n",
       "      <td>1</td>\n",
       "      <td>4</td>\n",
       "      <td>0</td>\n",
       "      <td>0</td>\n",
       "      <td>0</td>\n",
       "    </tr>\n",
       "  </tbody>\n",
       "</table>\n",
       "<p>5 rows × 31 columns</p>\n",
       "</div>"
      ],
      "text/plain": [
       "  HeartDisease    BMI Smoking AlcoholDrinking Stroke  PhysicalHealth  \\\n",
       "0           No  16.60     Yes              No     No             3.0   \n",
       "1           No  20.34      No              No    Yes             0.0   \n",
       "2           No  26.58     Yes              No     No            20.0   \n",
       "3           No  24.21      No              No     No             0.0   \n",
       "4           No  23.71      No              No     No            28.0   \n",
       "\n",
       "   MentalHealth DiffWalking     Sex  AgeCategory  ... StrokeENC  \\\n",
       "0          30.0          No  Female        55-59  ...         0   \n",
       "1           0.0          No  Female  80 or older  ...         1   \n",
       "2          30.0          No    Male        65-69  ...         0   \n",
       "3           0.0          No  Female        75-79  ...         0   \n",
       "4           0.0         Yes  Female        40-44  ...         0   \n",
       "\n",
       "  DiffWalkingENC SexENC RaceENC  DiabeticENC PhysicalActivityENC GenHealthENC  \\\n",
       "0              0      0       5            2                   1            4   \n",
       "1              0      0       5            0                   1            4   \n",
       "2              0      1       5            2                   1            1   \n",
       "3              0      0       5            0                   0            2   \n",
       "4              1      0       5            0                   1            4   \n",
       "\n",
       "  AsthmaENC  KidneyDiseaseENC  SkinCancerENC  \n",
       "0         1                 0              1  \n",
       "1         0                 0              0  \n",
       "2         1                 0              0  \n",
       "3         0                 0              1  \n",
       "4         0                 0              0  \n",
       "\n",
       "[5 rows x 31 columns]"
      ]
     },
     "execution_count": 58,
     "metadata": {},
     "output_type": "execute_result"
    }
   ],
   "source": [
    "heart_disease_data.head()"
   ]
  },
  {
   "cell_type": "code",
   "execution_count": 62,
   "id": "7cf01bf3-819e-4010-9dac-765c04df6614",
   "metadata": {},
   "outputs": [
    {
     "data": {
      "text/plain": [
       "Index(['HeartDisease', 'BMI', 'Smoking', 'AlcoholDrinking', 'Stroke',\n",
       "       'PhysicalHealth', 'MentalHealth', 'DiffWalking', 'Sex', 'AgeCategory',\n",
       "       'Race', 'Diabetic', 'PhysicalActivity', 'GenHealth', 'SleepTime',\n",
       "       'Asthma', 'KidneyDisease', 'SkinCancer', 'HeartDiseaseEnc',\n",
       "       'SmokingENC', 'AlcoholDrinkingENC', 'StrokeENC', 'DiffWalkingENC',\n",
       "       'SexENC', 'RaceENC', 'DiabeticENC', 'PhysicalActivityENC',\n",
       "       'GenHealthENC', 'AsthmaENC', 'KidneyDiseaseENC', 'SkinCancerENC'],\n",
       "      dtype='object')"
      ]
     },
     "execution_count": 62,
     "metadata": {},
     "output_type": "execute_result"
    }
   ],
   "source": [
    "heart_disease_data.columns"
   ]
  },
  {
   "cell_type": "code",
   "execution_count": 60,
   "id": "246487ce-fd96-4bb1-9b9c-48b4ad7f3fc4",
   "metadata": {},
   "outputs": [
    {
     "data": {
      "text/html": [
       "<div>\n",
       "<style scoped>\n",
       "    .dataframe tbody tr th:only-of-type {\n",
       "        vertical-align: middle;\n",
       "    }\n",
       "\n",
       "    .dataframe tbody tr th {\n",
       "        vertical-align: top;\n",
       "    }\n",
       "\n",
       "    .dataframe thead th {\n",
       "        text-align: right;\n",
       "    }\n",
       "</style>\n",
       "<table border=\"1\" class=\"dataframe\">\n",
       "  <thead>\n",
       "    <tr style=\"text-align: right;\">\n",
       "      <th></th>\n",
       "      <th>Race</th>\n",
       "      <th>RaceENC</th>\n",
       "      <th>GenHealth</th>\n",
       "      <th>GenHealthENC</th>\n",
       "    </tr>\n",
       "  </thead>\n",
       "  <tbody>\n",
       "    <tr>\n",
       "      <th>0</th>\n",
       "      <td>White</td>\n",
       "      <td>5</td>\n",
       "      <td>Very good</td>\n",
       "      <td>4</td>\n",
       "    </tr>\n",
       "    <tr>\n",
       "      <th>1</th>\n",
       "      <td>White</td>\n",
       "      <td>5</td>\n",
       "      <td>Very good</td>\n",
       "      <td>4</td>\n",
       "    </tr>\n",
       "    <tr>\n",
       "      <th>2</th>\n",
       "      <td>White</td>\n",
       "      <td>5</td>\n",
       "      <td>Fair</td>\n",
       "      <td>1</td>\n",
       "    </tr>\n",
       "    <tr>\n",
       "      <th>3</th>\n",
       "      <td>White</td>\n",
       "      <td>5</td>\n",
       "      <td>Good</td>\n",
       "      <td>2</td>\n",
       "    </tr>\n",
       "    <tr>\n",
       "      <th>4</th>\n",
       "      <td>White</td>\n",
       "      <td>5</td>\n",
       "      <td>Very good</td>\n",
       "      <td>4</td>\n",
       "    </tr>\n",
       "    <tr>\n",
       "      <th>...</th>\n",
       "      <td>...</td>\n",
       "      <td>...</td>\n",
       "      <td>...</td>\n",
       "      <td>...</td>\n",
       "    </tr>\n",
       "    <tr>\n",
       "      <th>319790</th>\n",
       "      <td>Hispanic</td>\n",
       "      <td>3</td>\n",
       "      <td>Fair</td>\n",
       "      <td>1</td>\n",
       "    </tr>\n",
       "    <tr>\n",
       "      <th>319791</th>\n",
       "      <td>Hispanic</td>\n",
       "      <td>3</td>\n",
       "      <td>Very good</td>\n",
       "      <td>4</td>\n",
       "    </tr>\n",
       "    <tr>\n",
       "      <th>319792</th>\n",
       "      <td>Hispanic</td>\n",
       "      <td>3</td>\n",
       "      <td>Good</td>\n",
       "      <td>2</td>\n",
       "    </tr>\n",
       "    <tr>\n",
       "      <th>319793</th>\n",
       "      <td>Hispanic</td>\n",
       "      <td>3</td>\n",
       "      <td>Good</td>\n",
       "      <td>2</td>\n",
       "    </tr>\n",
       "    <tr>\n",
       "      <th>319794</th>\n",
       "      <td>Hispanic</td>\n",
       "      <td>3</td>\n",
       "      <td>Good</td>\n",
       "      <td>2</td>\n",
       "    </tr>\n",
       "  </tbody>\n",
       "</table>\n",
       "<p>319795 rows × 4 columns</p>\n",
       "</div>"
      ],
      "text/plain": [
       "            Race  RaceENC  GenHealth  GenHealthENC\n",
       "0          White        5  Very good             4\n",
       "1          White        5  Very good             4\n",
       "2          White        5       Fair             1\n",
       "3          White        5       Good             2\n",
       "4          White        5  Very good             4\n",
       "...          ...      ...        ...           ...\n",
       "319790  Hispanic        3       Fair             1\n",
       "319791  Hispanic        3  Very good             4\n",
       "319792  Hispanic        3       Good             2\n",
       "319793  Hispanic        3       Good             2\n",
       "319794  Hispanic        3       Good             2\n",
       "\n",
       "[319795 rows x 4 columns]"
      ]
     },
     "execution_count": 60,
     "metadata": {},
     "output_type": "execute_result"
    }
   ],
   "source": [
    "heart_disease_data[['Race','RaceENC','GenHealth','GenHealthENC']]"
   ]
  },
  {
   "cell_type": "code",
   "execution_count": 61,
   "id": "42332f8e-9c96-4be8-a427-4224d8088d25",
   "metadata": {},
   "outputs": [],
   "source": [
    "heart_disease_data.to_csv(\"heart_disease.csv\",index=False)"
   ]
  },
  {
   "cell_type": "markdown",
   "id": "dae0c749-a2ad-40ed-a57d-bd8393fe3727",
   "metadata": {},
   "source": [
    "### check if the given dataset is imbalanced"
   ]
  },
  {
   "cell_type": "code",
   "execution_count": 5,
   "id": "f9be563f-bfa9-4def-8430-d43b4a5025fb",
   "metadata": {},
   "outputs": [
    {
     "data": {
      "text/plain": [
       "HeartDisease\n",
       "No     292422\n",
       "Yes     27373\n",
       "Name: count, dtype: int64"
      ]
     },
     "execution_count": 5,
     "metadata": {},
     "output_type": "execute_result"
    }
   ],
   "source": [
    "heart_disease_data['HeartDisease'].value_counts()"
   ]
  },
  {
   "cell_type": "code",
   "execution_count": 9,
   "id": "d62c18a2-7643-41f3-a47b-93c2c890078a",
   "metadata": {},
   "outputs": [
    {
     "data": {
      "text/plain": [
       "<Axes: ylabel='count'>"
      ]
     },
     "execution_count": 9,
     "metadata": {},
     "output_type": "execute_result"
    },
    {
     "data": {
      "image/png": "[encoded data removed]",
      "text/plain": [
       "<Figure size 640x480 with 1 Axes>"
      ]
     },
     "metadata": {},
     "output_type": "display_data"
    }
   ],
   "source": [
    "heart_disease_data['HeartDisease'].value_counts().plot.pie()"
   ]
  },
  {
   "cell_type": "code",
   "execution_count": 10,
   "id": "0cd02b53-77b5-4bc5-9f59-dbe0bacbd7e4",
   "metadata": {},
   "outputs": [
    {
     "data": {
      "text/plain": [
       "<Axes: ylabel='count'>"
      ]
     },
     "execution_count": 10,
     "metadata": {},
     "output_type": "execute_result"
    },
    {
     "data": {
      "image/png": "[encoded data removed]",
      "text/plain": [
       "<Figure size 640x480 with 1 Axes>"
      ]
     },
     "metadata": {},
     "output_type": "display_data"
    }
   ],
   "source": [
    "heart_disease_data['Race'].value_counts().plot.pie()"
   ]
  },
  {
   "cell_type": "code",
   "execution_count": 11,
   "id": "54f7e23e-01f8-4bfc-8ea5-bb3fe3753350",
   "metadata": {},
   "outputs": [
    {
     "data": {
      "text/plain": [
       "<Axes: ylabel='count'>"
      ]
     },
     "execution_count": 11,
     "metadata": {},
     "output_type": "execute_result"
    },
    {
     "data": {
      "image/png": "[encoded data removed]",
      "text/plain": [
       "<Figure size 640x480 with 1 Axes>"
      ]
     },
     "metadata": {},
     "output_type": "display_data"
    }
   ],
   "source": [
    "heart_disease_data['Smoking'].value_counts().plot.pie()"
   ]
  },
  {
   "cell_type": "code",
   "execution_count": 12,
   "id": "67870d00-62ef-4fc7-902f-f382880bcd04",
   "metadata": {},
   "outputs": [
    {
     "data": {
      "text/plain": [
       "<Axes: ylabel='count'>"
      ]
     },
     "execution_count": 12,
     "metadata": {},
     "output_type": "execute_result"
    },
    {
     "data": {
      "image/png": "[encoded data removed]",
      "text/plain": [
       "<Figure size 640x480 with 1 Axes>"
      ]
     },
     "metadata": {},
     "output_type": "display_data"
    }
   ],
   "source": [
    "heart_disease_data['AlcoholDrinking'].value_counts().plot.pie()"
   ]
  },
  {
   "cell_type": "code",
   "execution_count": 14,
   "id": "5fb1640f-34ac-44a5-97a9-bc9c196505f3",
   "metadata": {},
   "outputs": [
    {
     "data": {
      "text/plain": [
       "<Axes: ylabel='count'>"
      ]
     },
     "execution_count": 14,
     "metadata": {},
     "output_type": "execute_result"
    },
    {
     "data": {
      "image/png": "[encoded data removed]",
      "text/plain": [
       "<Figure size 640x480 with 1 Axes>"
      ]
     },
     "metadata": {},
     "output_type": "display_data"
    }
   ],
   "source": [
    "heart_disease_data['AlcoholDrinking'].value_counts().plot.pie()"
   ]
  },
  {
   "cell_type": "code",
   "execution_count": null,
   "id": "b62459fd-a352-45d0-816a-67698318266d",
   "metadata": {},
   "outputs": [],
   "source": []
  }
 ],
 "metadata": {
  "kernelspec": {
   "display_name": "Python 3 (ipykernel)",
   "language": "python",
   "name": "python3"
  },
  "language_info": {
   "codemirror_mode": {
    "name": "ipython",
    "version": 3
   },
   "file_extension": ".py",
   "mimetype": "text/x-python",
   "name": "python",
   "nbconvert_exporter": "python",
   "pygments_lexer": "ipython3",
   "version": "3.12.1"
  }
 },
 "nbformat": 4,
 "nbformat_minor": 5
}
